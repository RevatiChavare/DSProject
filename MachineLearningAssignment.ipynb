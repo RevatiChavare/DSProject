{
 "cells": [
  {
   "cell_type": "code",
   "execution_count": 791,
   "id": "b785f16e",
   "metadata": {},
   "outputs": [],
   "source": [
    "import pandas as pd\n",
    "import seaborn as sns\n",
    "import numpy as np\n",
    "import matplotlib.pyplot as plt\n",
    "from sklearn import linear_model\n",
    "%config InlineBackend.figure_format='retina'\n",
    "sns.set(\n",
    "    rc={ \"figure.figsize\": (14,6) },\n",
    "    style=\"ticks\", context=\"notebook\", font_scale=1.2\n",
    ")\n",
    "\n"
   ]
  },
  {
   "cell_type": "code",
   "execution_count": 792,
   "id": "b77dbf88",
   "metadata": {},
   "outputs": [],
   "source": [
    "data=pd.read_csv('adverts.csv')"
   ]
  },
  {
   "cell_type": "code",
   "execution_count": 793,
   "id": "c8cea5f1",
   "metadata": {
    "scrolled": true
   },
   "outputs": [
    {
     "data": {
      "text/html": [
       "<div>\n",
       "<style scoped>\n",
       "    .dataframe tbody tr th:only-of-type {\n",
       "        vertical-align: middle;\n",
       "    }\n",
       "\n",
       "    .dataframe tbody tr th {\n",
       "        vertical-align: top;\n",
       "    }\n",
       "\n",
       "    .dataframe thead th {\n",
       "        text-align: right;\n",
       "    }\n",
       "</style>\n",
       "<table border=\"1\" class=\"dataframe\">\n",
       "  <thead>\n",
       "    <tr style=\"text-align: right;\">\n",
       "      <th></th>\n",
       "      <th>public_reference</th>\n",
       "      <th>mileage</th>\n",
       "      <th>reg_code</th>\n",
       "      <th>standard_colour</th>\n",
       "      <th>standard_make</th>\n",
       "      <th>standard_model</th>\n",
       "      <th>vehicle_condition</th>\n",
       "      <th>year_of_registration</th>\n",
       "      <th>price</th>\n",
       "      <th>body_type</th>\n",
       "      <th>crossover_car_and_van</th>\n",
       "      <th>fuel_type</th>\n",
       "    </tr>\n",
       "  </thead>\n",
       "  <tbody>\n",
       "    <tr>\n",
       "      <th>0</th>\n",
       "      <td>202006039777689</td>\n",
       "      <td>0.0</td>\n",
       "      <td>NaN</td>\n",
       "      <td>Grey</td>\n",
       "      <td>Volvo</td>\n",
       "      <td>XC90</td>\n",
       "      <td>NEW</td>\n",
       "      <td>NaN</td>\n",
       "      <td>73970</td>\n",
       "      <td>SUV</td>\n",
       "      <td>False</td>\n",
       "      <td>Petrol Plug-in Hybrid</td>\n",
       "    </tr>\n",
       "    <tr>\n",
       "      <th>1</th>\n",
       "      <td>202007020778260</td>\n",
       "      <td>108230.0</td>\n",
       "      <td>61</td>\n",
       "      <td>Blue</td>\n",
       "      <td>Jaguar</td>\n",
       "      <td>XF</td>\n",
       "      <td>USED</td>\n",
       "      <td>2011.0</td>\n",
       "      <td>7000</td>\n",
       "      <td>Saloon</td>\n",
       "      <td>False</td>\n",
       "      <td>Diesel</td>\n",
       "    </tr>\n",
       "    <tr>\n",
       "      <th>2</th>\n",
       "      <td>202007020778474</td>\n",
       "      <td>7800.0</td>\n",
       "      <td>17</td>\n",
       "      <td>Grey</td>\n",
       "      <td>SKODA</td>\n",
       "      <td>Yeti</td>\n",
       "      <td>USED</td>\n",
       "      <td>2017.0</td>\n",
       "      <td>14000</td>\n",
       "      <td>SUV</td>\n",
       "      <td>False</td>\n",
       "      <td>Petrol</td>\n",
       "    </tr>\n",
       "    <tr>\n",
       "      <th>3</th>\n",
       "      <td>202007080986776</td>\n",
       "      <td>45000.0</td>\n",
       "      <td>16</td>\n",
       "      <td>Brown</td>\n",
       "      <td>Vauxhall</td>\n",
       "      <td>Mokka</td>\n",
       "      <td>USED</td>\n",
       "      <td>2016.0</td>\n",
       "      <td>7995</td>\n",
       "      <td>Hatchback</td>\n",
       "      <td>False</td>\n",
       "      <td>Diesel</td>\n",
       "    </tr>\n",
       "    <tr>\n",
       "      <th>4</th>\n",
       "      <td>202007161321269</td>\n",
       "      <td>64000.0</td>\n",
       "      <td>64</td>\n",
       "      <td>Grey</td>\n",
       "      <td>Land Rover</td>\n",
       "      <td>Range Rover Sport</td>\n",
       "      <td>USED</td>\n",
       "      <td>2015.0</td>\n",
       "      <td>26995</td>\n",
       "      <td>SUV</td>\n",
       "      <td>False</td>\n",
       "      <td>Diesel</td>\n",
       "    </tr>\n",
       "  </tbody>\n",
       "</table>\n",
       "</div>"
      ],
      "text/plain": [
       "   public_reference   mileage reg_code standard_colour standard_make  \\\n",
       "0   202006039777689       0.0      NaN            Grey         Volvo   \n",
       "1   202007020778260  108230.0       61            Blue        Jaguar   \n",
       "2   202007020778474    7800.0       17            Grey         SKODA   \n",
       "3   202007080986776   45000.0       16           Brown      Vauxhall   \n",
       "4   202007161321269   64000.0       64            Grey    Land Rover   \n",
       "\n",
       "      standard_model vehicle_condition  year_of_registration  price  \\\n",
       "0               XC90               NEW                   NaN  73970   \n",
       "1                 XF              USED                2011.0   7000   \n",
       "2               Yeti              USED                2017.0  14000   \n",
       "3              Mokka              USED                2016.0   7995   \n",
       "4  Range Rover Sport              USED                2015.0  26995   \n",
       "\n",
       "   body_type  crossover_car_and_van              fuel_type  \n",
       "0        SUV                  False  Petrol Plug-in Hybrid  \n",
       "1     Saloon                  False                 Diesel  \n",
       "2        SUV                  False                 Petrol  \n",
       "3  Hatchback                  False                 Diesel  \n",
       "4        SUV                  False                 Diesel  "
      ]
     },
     "execution_count": 793,
     "metadata": {},
     "output_type": "execute_result"
    }
   ],
   "source": [
    "data.head(5)"
   ]
  },
  {
   "cell_type": "code",
   "execution_count": 794,
   "id": "027d99bd",
   "metadata": {},
   "outputs": [
    {
     "data": {
      "text/plain": [
       "public_reference             0\n",
       "mileage                    127\n",
       "reg_code                 31857\n",
       "standard_colour           5378\n",
       "standard_make                0\n",
       "standard_model               0\n",
       "vehicle_condition            0\n",
       "year_of_registration     33311\n",
       "price                        0\n",
       "body_type                  837\n",
       "crossover_car_and_van        0\n",
       "fuel_type                  601\n",
       "dtype: int64"
      ]
     },
     "execution_count": 794,
     "metadata": {},
     "output_type": "execute_result"
    }
   ],
   "source": [
    "data.isnull().sum()"
   ]
  },
  {
   "cell_type": "markdown",
   "id": "69d8415b",
   "metadata": {},
   "source": [
    "## Features\n"
   ]
  },
  {
   "cell_type": "code",
   "execution_count": 795,
   "id": "959c7b6c",
   "metadata": {},
   "outputs": [],
   "source": [
    "#Considering mileage and year of registration as features to predict the price of the vehicle.\n",
    "#As seen in the dataset, both mileage and year_of_registration contains NaN values. \n",
    "#So to deal with it, I'll replacing the Na values with the mean of the remaining data.\n"
   ]
  },
  {
   "cell_type": "code",
   "execution_count": 796,
   "id": "dbb0837a",
   "metadata": {},
   "outputs": [],
   "source": [
    "data['mileage']=data['mileage'].fillna(data.mileage.mean())"
   ]
  },
  {
   "cell_type": "code",
   "execution_count": 797,
   "id": "c8e5d6f6",
   "metadata": {},
   "outputs": [],
   "source": [
    "data['price']=data['price'].fillna(data.price.mean())"
   ]
  },
  {
   "cell_type": "code",
   "execution_count": 798,
   "id": "10c88428",
   "metadata": {},
   "outputs": [],
   "source": [
    "data['year_of_registration']=data['year_of_registration'].fillna(0)"
   ]
  },
  {
   "cell_type": "code",
   "execution_count": 799,
   "id": "5923a261",
   "metadata": {},
   "outputs": [
    {
     "data": {
      "text/html": [
       "<div>\n",
       "<style scoped>\n",
       "    .dataframe tbody tr th:only-of-type {\n",
       "        vertical-align: middle;\n",
       "    }\n",
       "\n",
       "    .dataframe tbody tr th {\n",
       "        vertical-align: top;\n",
       "    }\n",
       "\n",
       "    .dataframe thead th {\n",
       "        text-align: right;\n",
       "    }\n",
       "</style>\n",
       "<table border=\"1\" class=\"dataframe\">\n",
       "  <thead>\n",
       "    <tr style=\"text-align: right;\">\n",
       "      <th></th>\n",
       "      <th>public_reference</th>\n",
       "      <th>mileage</th>\n",
       "      <th>reg_code</th>\n",
       "      <th>standard_colour</th>\n",
       "      <th>standard_make</th>\n",
       "      <th>standard_model</th>\n",
       "      <th>vehicle_condition</th>\n",
       "      <th>year_of_registration</th>\n",
       "      <th>price</th>\n",
       "      <th>body_type</th>\n",
       "      <th>crossover_car_and_van</th>\n",
       "      <th>fuel_type</th>\n",
       "    </tr>\n",
       "  </thead>\n",
       "  <tbody>\n",
       "    <tr>\n",
       "      <th>0</th>\n",
       "      <td>202006039777689</td>\n",
       "      <td>0.0</td>\n",
       "      <td>NaN</td>\n",
       "      <td>Grey</td>\n",
       "      <td>Volvo</td>\n",
       "      <td>XC90</td>\n",
       "      <td>NEW</td>\n",
       "      <td>0.0</td>\n",
       "      <td>73970</td>\n",
       "      <td>SUV</td>\n",
       "      <td>False</td>\n",
       "      <td>Petrol Plug-in Hybrid</td>\n",
       "    </tr>\n",
       "    <tr>\n",
       "      <th>1</th>\n",
       "      <td>202007020778260</td>\n",
       "      <td>108230.0</td>\n",
       "      <td>61</td>\n",
       "      <td>Blue</td>\n",
       "      <td>Jaguar</td>\n",
       "      <td>XF</td>\n",
       "      <td>USED</td>\n",
       "      <td>2011.0</td>\n",
       "      <td>7000</td>\n",
       "      <td>Saloon</td>\n",
       "      <td>False</td>\n",
       "      <td>Diesel</td>\n",
       "    </tr>\n",
       "    <tr>\n",
       "      <th>2</th>\n",
       "      <td>202007020778474</td>\n",
       "      <td>7800.0</td>\n",
       "      <td>17</td>\n",
       "      <td>Grey</td>\n",
       "      <td>SKODA</td>\n",
       "      <td>Yeti</td>\n",
       "      <td>USED</td>\n",
       "      <td>2017.0</td>\n",
       "      <td>14000</td>\n",
       "      <td>SUV</td>\n",
       "      <td>False</td>\n",
       "      <td>Petrol</td>\n",
       "    </tr>\n",
       "    <tr>\n",
       "      <th>3</th>\n",
       "      <td>202007080986776</td>\n",
       "      <td>45000.0</td>\n",
       "      <td>16</td>\n",
       "      <td>Brown</td>\n",
       "      <td>Vauxhall</td>\n",
       "      <td>Mokka</td>\n",
       "      <td>USED</td>\n",
       "      <td>2016.0</td>\n",
       "      <td>7995</td>\n",
       "      <td>Hatchback</td>\n",
       "      <td>False</td>\n",
       "      <td>Diesel</td>\n",
       "    </tr>\n",
       "    <tr>\n",
       "      <th>4</th>\n",
       "      <td>202007161321269</td>\n",
       "      <td>64000.0</td>\n",
       "      <td>64</td>\n",
       "      <td>Grey</td>\n",
       "      <td>Land Rover</td>\n",
       "      <td>Range Rover Sport</td>\n",
       "      <td>USED</td>\n",
       "      <td>2015.0</td>\n",
       "      <td>26995</td>\n",
       "      <td>SUV</td>\n",
       "      <td>False</td>\n",
       "      <td>Diesel</td>\n",
       "    </tr>\n",
       "  </tbody>\n",
       "</table>\n",
       "</div>"
      ],
      "text/plain": [
       "   public_reference   mileage reg_code standard_colour standard_make  \\\n",
       "0   202006039777689       0.0      NaN            Grey         Volvo   \n",
       "1   202007020778260  108230.0       61            Blue        Jaguar   \n",
       "2   202007020778474    7800.0       17            Grey         SKODA   \n",
       "3   202007080986776   45000.0       16           Brown      Vauxhall   \n",
       "4   202007161321269   64000.0       64            Grey    Land Rover   \n",
       "\n",
       "      standard_model vehicle_condition  year_of_registration  price  \\\n",
       "0               XC90               NEW                   0.0  73970   \n",
       "1                 XF              USED                2011.0   7000   \n",
       "2               Yeti              USED                2017.0  14000   \n",
       "3              Mokka              USED                2016.0   7995   \n",
       "4  Range Rover Sport              USED                2015.0  26995   \n",
       "\n",
       "   body_type  crossover_car_and_van              fuel_type  \n",
       "0        SUV                  False  Petrol Plug-in Hybrid  \n",
       "1     Saloon                  False                 Diesel  \n",
       "2        SUV                  False                 Petrol  \n",
       "3  Hatchback                  False                 Diesel  \n",
       "4        SUV                  False                 Diesel  "
      ]
     },
     "execution_count": 799,
     "metadata": {},
     "output_type": "execute_result"
    }
   ],
   "source": [
    "data.head(5)"
   ]
  },
  {
   "cell_type": "code",
   "execution_count": 800,
   "id": "9a4d86ee",
   "metadata": {},
   "outputs": [],
   "source": [
    "#year_of_registration is in float, so I'll convert it to integer format."
   ]
  },
  {
   "cell_type": "code",
   "execution_count": 801,
   "id": "8b7cefa5",
   "metadata": {},
   "outputs": [],
   "source": [
    "data['year_of_registration']=data['year_of_registration'].astype(int)"
   ]
  },
  {
   "cell_type": "code",
   "execution_count": 802,
   "id": "dbdfa6bb",
   "metadata": {},
   "outputs": [
    {
     "data": {
      "text/html": [
       "<div>\n",
       "<style scoped>\n",
       "    .dataframe tbody tr th:only-of-type {\n",
       "        vertical-align: middle;\n",
       "    }\n",
       "\n",
       "    .dataframe tbody tr th {\n",
       "        vertical-align: top;\n",
       "    }\n",
       "\n",
       "    .dataframe thead th {\n",
       "        text-align: right;\n",
       "    }\n",
       "</style>\n",
       "<table border=\"1\" class=\"dataframe\">\n",
       "  <thead>\n",
       "    <tr style=\"text-align: right;\">\n",
       "      <th></th>\n",
       "      <th>public_reference</th>\n",
       "      <th>mileage</th>\n",
       "      <th>reg_code</th>\n",
       "      <th>standard_colour</th>\n",
       "      <th>standard_make</th>\n",
       "      <th>standard_model</th>\n",
       "      <th>vehicle_condition</th>\n",
       "      <th>year_of_registration</th>\n",
       "      <th>price</th>\n",
       "      <th>body_type</th>\n",
       "      <th>crossover_car_and_van</th>\n",
       "      <th>fuel_type</th>\n",
       "    </tr>\n",
       "  </thead>\n",
       "  <tbody>\n",
       "    <tr>\n",
       "      <th>0</th>\n",
       "      <td>202006039777689</td>\n",
       "      <td>0.0</td>\n",
       "      <td>NaN</td>\n",
       "      <td>Grey</td>\n",
       "      <td>Volvo</td>\n",
       "      <td>XC90</td>\n",
       "      <td>NEW</td>\n",
       "      <td>0</td>\n",
       "      <td>73970</td>\n",
       "      <td>SUV</td>\n",
       "      <td>False</td>\n",
       "      <td>Petrol Plug-in Hybrid</td>\n",
       "    </tr>\n",
       "  </tbody>\n",
       "</table>\n",
       "</div>"
      ],
      "text/plain": [
       "   public_reference  mileage reg_code standard_colour standard_make  \\\n",
       "0   202006039777689      0.0      NaN            Grey         Volvo   \n",
       "\n",
       "  standard_model vehicle_condition  year_of_registration  price body_type  \\\n",
       "0           XC90               NEW                     0  73970       SUV   \n",
       "\n",
       "   crossover_car_and_van              fuel_type  \n",
       "0                  False  Petrol Plug-in Hybrid  "
      ]
     },
     "execution_count": 802,
     "metadata": {},
     "output_type": "execute_result"
    }
   ],
   "source": [
    "data.head(1)"
   ]
  },
  {
   "cell_type": "code",
   "execution_count": 803,
   "id": "6e2d5bea",
   "metadata": {},
   "outputs": [],
   "source": [
    "#Instead of working on the complete dataset, I'll subset the data accordingly..."
   ]
  },
  {
   "cell_type": "code",
   "execution_count": 804,
   "id": "99af8443",
   "metadata": {},
   "outputs": [],
   "source": [
    "model_data=data[['mileage','year_of_registration','price','vehicle_condition','fuel_type','body_type']]"
   ]
  },
  {
   "cell_type": "code",
   "execution_count": 805,
   "id": "c64ce82e",
   "metadata": {},
   "outputs": [
    {
     "data": {
      "text/html": [
       "<div>\n",
       "<style scoped>\n",
       "    .dataframe tbody tr th:only-of-type {\n",
       "        vertical-align: middle;\n",
       "    }\n",
       "\n",
       "    .dataframe tbody tr th {\n",
       "        vertical-align: top;\n",
       "    }\n",
       "\n",
       "    .dataframe thead th {\n",
       "        text-align: right;\n",
       "    }\n",
       "</style>\n",
       "<table border=\"1\" class=\"dataframe\">\n",
       "  <thead>\n",
       "    <tr style=\"text-align: right;\">\n",
       "      <th></th>\n",
       "      <th>mileage</th>\n",
       "      <th>year_of_registration</th>\n",
       "      <th>price</th>\n",
       "      <th>vehicle_condition</th>\n",
       "      <th>fuel_type</th>\n",
       "      <th>body_type</th>\n",
       "    </tr>\n",
       "  </thead>\n",
       "  <tbody>\n",
       "    <tr>\n",
       "      <th>0</th>\n",
       "      <td>0.0</td>\n",
       "      <td>0</td>\n",
       "      <td>73970</td>\n",
       "      <td>NEW</td>\n",
       "      <td>Petrol Plug-in Hybrid</td>\n",
       "      <td>SUV</td>\n",
       "    </tr>\n",
       "    <tr>\n",
       "      <th>1</th>\n",
       "      <td>108230.0</td>\n",
       "      <td>2011</td>\n",
       "      <td>7000</td>\n",
       "      <td>USED</td>\n",
       "      <td>Diesel</td>\n",
       "      <td>Saloon</td>\n",
       "    </tr>\n",
       "    <tr>\n",
       "      <th>2</th>\n",
       "      <td>7800.0</td>\n",
       "      <td>2017</td>\n",
       "      <td>14000</td>\n",
       "      <td>USED</td>\n",
       "      <td>Petrol</td>\n",
       "      <td>SUV</td>\n",
       "    </tr>\n",
       "    <tr>\n",
       "      <th>3</th>\n",
       "      <td>45000.0</td>\n",
       "      <td>2016</td>\n",
       "      <td>7995</td>\n",
       "      <td>USED</td>\n",
       "      <td>Diesel</td>\n",
       "      <td>Hatchback</td>\n",
       "    </tr>\n",
       "    <tr>\n",
       "      <th>4</th>\n",
       "      <td>64000.0</td>\n",
       "      <td>2015</td>\n",
       "      <td>26995</td>\n",
       "      <td>USED</td>\n",
       "      <td>Diesel</td>\n",
       "      <td>SUV</td>\n",
       "    </tr>\n",
       "  </tbody>\n",
       "</table>\n",
       "</div>"
      ],
      "text/plain": [
       "    mileage  year_of_registration  price vehicle_condition  \\\n",
       "0       0.0                     0  73970               NEW   \n",
       "1  108230.0                  2011   7000              USED   \n",
       "2    7800.0                  2017  14000              USED   \n",
       "3   45000.0                  2016   7995              USED   \n",
       "4   64000.0                  2015  26995              USED   \n",
       "\n",
       "               fuel_type  body_type  \n",
       "0  Petrol Plug-in Hybrid        SUV  \n",
       "1                 Diesel     Saloon  \n",
       "2                 Petrol        SUV  \n",
       "3                 Diesel  Hatchback  \n",
       "4                 Diesel        SUV  "
      ]
     },
     "execution_count": 805,
     "metadata": {},
     "output_type": "execute_result"
    }
   ],
   "source": [
    "model_data.head()"
   ]
  },
  {
   "cell_type": "code",
   "execution_count": 806,
   "id": "fce55501",
   "metadata": {},
   "outputs": [
    {
     "data": {
      "text/plain": [
       "array(['SUV', 'Saloon', 'Hatchback', 'Convertible', 'Limousine', 'Estate',\n",
       "       'MPV', 'Coupe', nan, 'Pickup', 'Combi Van', 'Panel Van', 'Minibus',\n",
       "       'Window Van', 'Camper', 'Car Derived Van', 'Chassis Cab'],\n",
       "      dtype=object)"
      ]
     },
     "execution_count": 806,
     "metadata": {},
     "output_type": "execute_result"
    }
   ],
   "source": [
    "model_data['body_type'].unique()"
   ]
  },
  {
   "cell_type": "code",
   "execution_count": 807,
   "id": "29c4a778",
   "metadata": {},
   "outputs": [
    {
     "name": "stderr",
     "output_type": "stream",
     "text": [
      "C:\\Users\\Revati Chavare\\AppData\\Local\\Temp\\ipykernel_37668\\3799865816.py:1: SettingWithCopyWarning: \n",
      "A value is trying to be set on a copy of a slice from a DataFrame.\n",
      "Try using .loc[row_indexer,col_indexer] = value instead\n",
      "\n",
      "See the caveats in the documentation: https://pandas.pydata.org/pandas-docs/stable/user_guide/indexing.html#returning-a-view-versus-a-copy\n",
      "  model_data['fuel_type']=model_data['fuel_type'].map({'Electric':0,'Petrol':1,'Diesel':2,'Petrol Plug-in Hybrid':3,'Diesel Plug-in Hybrid':4,'Petrol Hybrid':5,'Diesel Hybrid':6,'Natural Gas':7,'Bi Fuel':8})\n"
     ]
    }
   ],
   "source": [
    "model_data['fuel_type']=model_data['fuel_type'].map({'Electric':0,'Petrol':1,'Diesel':2,'Petrol Plug-in Hybrid':3,'Diesel Plug-in Hybrid':4,'Petrol Hybrid':5,'Diesel Hybrid':6,'Natural Gas':7,'Bi Fuel':8})"
   ]
  },
  {
   "cell_type": "code",
   "execution_count": 808,
   "id": "461e070a",
   "metadata": {},
   "outputs": [
    {
     "name": "stderr",
     "output_type": "stream",
     "text": [
      "C:\\Users\\Revati Chavare\\AppData\\Local\\Temp\\ipykernel_37668\\2578117876.py:1: SettingWithCopyWarning: \n",
      "A value is trying to be set on a copy of a slice from a DataFrame.\n",
      "Try using .loc[row_indexer,col_indexer] = value instead\n",
      "\n",
      "See the caveats in the documentation: https://pandas.pydata.org/pandas-docs/stable/user_guide/indexing.html#returning-a-view-versus-a-copy\n",
      "  model_data['body_type']=model_data['body_type'].map({'Hatchback':0,'SUV':1,'Saloon':2,'Convertible':3,'Limousine':4,'Estate':5,'MPV':6,'Coupe':7,'Pickup':8,'Combi Van':9,'Panel Van':10,'Minibus':11,'Window Van':12,'Camper':13,'Car Derived Van':14,'Chassis Cab':15})\n"
     ]
    }
   ],
   "source": [
    "model_data['body_type']=model_data['body_type'].map({'Hatchback':0,'SUV':1,'Saloon':2,'Convertible':3,'Limousine':4,'Estate':5,'MPV':6,'Coupe':7,'Pickup':8,'Combi Van':9,'Panel Van':10,'Minibus':11,'Window Van':12,'Camper':13,'Car Derived Van':14,'Chassis Cab':15})"
   ]
  },
  {
   "cell_type": "code",
   "execution_count": 809,
   "id": "d3916e39",
   "metadata": {},
   "outputs": [
    {
     "name": "stderr",
     "output_type": "stream",
     "text": [
      "C:\\Users\\Revati Chavare\\AppData\\Local\\Temp\\ipykernel_37668\\3772213299.py:1: SettingWithCopyWarning: \n",
      "A value is trying to be set on a copy of a slice from a DataFrame.\n",
      "Try using .loc[row_indexer,col_indexer] = value instead\n",
      "\n",
      "See the caveats in the documentation: https://pandas.pydata.org/pandas-docs/stable/user_guide/indexing.html#returning-a-view-versus-a-copy\n",
      "  model_data['vehicle_condition']=model_data['vehicle_condition'].map({'NEW':0,'USED':1})\n"
     ]
    }
   ],
   "source": [
    "model_data['vehicle_condition']=model_data['vehicle_condition'].map({'NEW':0,'USED':1})"
   ]
  },
  {
   "cell_type": "code",
   "execution_count": 810,
   "id": "3f649bfc",
   "metadata": {
    "scrolled": true
   },
   "outputs": [
    {
     "data": {
      "text/html": [
       "<div>\n",
       "<style scoped>\n",
       "    .dataframe tbody tr th:only-of-type {\n",
       "        vertical-align: middle;\n",
       "    }\n",
       "\n",
       "    .dataframe tbody tr th {\n",
       "        vertical-align: top;\n",
       "    }\n",
       "\n",
       "    .dataframe thead th {\n",
       "        text-align: right;\n",
       "    }\n",
       "</style>\n",
       "<table border=\"1\" class=\"dataframe\">\n",
       "  <thead>\n",
       "    <tr style=\"text-align: right;\">\n",
       "      <th></th>\n",
       "      <th>mileage</th>\n",
       "      <th>year_of_registration</th>\n",
       "      <th>price</th>\n",
       "      <th>vehicle_condition</th>\n",
       "      <th>fuel_type</th>\n",
       "      <th>body_type</th>\n",
       "    </tr>\n",
       "  </thead>\n",
       "  <tbody>\n",
       "    <tr>\n",
       "      <th>0</th>\n",
       "      <td>0.0</td>\n",
       "      <td>0</td>\n",
       "      <td>73970</td>\n",
       "      <td>0</td>\n",
       "      <td>3.0</td>\n",
       "      <td>1.0</td>\n",
       "    </tr>\n",
       "    <tr>\n",
       "      <th>1</th>\n",
       "      <td>108230.0</td>\n",
       "      <td>2011</td>\n",
       "      <td>7000</td>\n",
       "      <td>1</td>\n",
       "      <td>2.0</td>\n",
       "      <td>2.0</td>\n",
       "    </tr>\n",
       "    <tr>\n",
       "      <th>2</th>\n",
       "      <td>7800.0</td>\n",
       "      <td>2017</td>\n",
       "      <td>14000</td>\n",
       "      <td>1</td>\n",
       "      <td>1.0</td>\n",
       "      <td>1.0</td>\n",
       "    </tr>\n",
       "    <tr>\n",
       "      <th>3</th>\n",
       "      <td>45000.0</td>\n",
       "      <td>2016</td>\n",
       "      <td>7995</td>\n",
       "      <td>1</td>\n",
       "      <td>2.0</td>\n",
       "      <td>0.0</td>\n",
       "    </tr>\n",
       "    <tr>\n",
       "      <th>4</th>\n",
       "      <td>64000.0</td>\n",
       "      <td>2015</td>\n",
       "      <td>26995</td>\n",
       "      <td>1</td>\n",
       "      <td>2.0</td>\n",
       "      <td>1.0</td>\n",
       "    </tr>\n",
       "    <tr>\n",
       "      <th>5</th>\n",
       "      <td>16000.0</td>\n",
       "      <td>2017</td>\n",
       "      <td>29000</td>\n",
       "      <td>1</td>\n",
       "      <td>1.0</td>\n",
       "      <td>3.0</td>\n",
       "    </tr>\n",
       "    <tr>\n",
       "      <th>6</th>\n",
       "      <td>24075.0</td>\n",
       "      <td>2017</td>\n",
       "      <td>5861</td>\n",
       "      <td>1</td>\n",
       "      <td>1.0</td>\n",
       "      <td>0.0</td>\n",
       "    </tr>\n",
       "    <tr>\n",
       "      <th>7</th>\n",
       "      <td>99000.0</td>\n",
       "      <td>2013</td>\n",
       "      <td>24475</td>\n",
       "      <td>1</td>\n",
       "      <td>2.0</td>\n",
       "      <td>1.0</td>\n",
       "    </tr>\n",
       "    <tr>\n",
       "      <th>8</th>\n",
       "      <td>111236.0</td>\n",
       "      <td>2008</td>\n",
       "      <td>6995</td>\n",
       "      <td>1</td>\n",
       "      <td>2.0</td>\n",
       "      <td>4.0</td>\n",
       "    </tr>\n",
       "    <tr>\n",
       "      <th>9</th>\n",
       "      <td>9500.0</td>\n",
       "      <td>2019</td>\n",
       "      <td>79995</td>\n",
       "      <td>1</td>\n",
       "      <td>2.0</td>\n",
       "      <td>1.0</td>\n",
       "    </tr>\n",
       "  </tbody>\n",
       "</table>\n",
       "</div>"
      ],
      "text/plain": [
       "    mileage  year_of_registration  price  vehicle_condition  fuel_type  \\\n",
       "0       0.0                     0  73970                  0        3.0   \n",
       "1  108230.0                  2011   7000                  1        2.0   \n",
       "2    7800.0                  2017  14000                  1        1.0   \n",
       "3   45000.0                  2016   7995                  1        2.0   \n",
       "4   64000.0                  2015  26995                  1        2.0   \n",
       "5   16000.0                  2017  29000                  1        1.0   \n",
       "6   24075.0                  2017   5861                  1        1.0   \n",
       "7   99000.0                  2013  24475                  1        2.0   \n",
       "8  111236.0                  2008   6995                  1        2.0   \n",
       "9    9500.0                  2019  79995                  1        2.0   \n",
       "\n",
       "   body_type  \n",
       "0        1.0  \n",
       "1        2.0  \n",
       "2        1.0  \n",
       "3        0.0  \n",
       "4        1.0  \n",
       "5        3.0  \n",
       "6        0.0  \n",
       "7        1.0  \n",
       "8        4.0  \n",
       "9        1.0  "
      ]
     },
     "execution_count": 810,
     "metadata": {},
     "output_type": "execute_result"
    }
   ],
   "source": [
    "model_data.head(10)"
   ]
  },
  {
   "cell_type": "code",
   "execution_count": 811,
   "id": "6bb22d65",
   "metadata": {},
   "outputs": [
    {
     "name": "stderr",
     "output_type": "stream",
     "text": [
      "C:\\Users\\Revati Chavare\\AppData\\Local\\Temp\\ipykernel_37668\\2993386575.py:1: SettingWithCopyWarning: \n",
      "A value is trying to be set on a copy of a slice from a DataFrame.\n",
      "Try using .loc[row_indexer,col_indexer] = value instead\n",
      "\n",
      "See the caveats in the documentation: https://pandas.pydata.org/pandas-docs/stable/user_guide/indexing.html#returning-a-view-versus-a-copy\n",
      "  model_data['fuel_type']=model_data['fuel_type'].fillna(9)\n"
     ]
    }
   ],
   "source": [
    "model_data['fuel_type']=model_data['fuel_type'].fillna(9)"
   ]
  },
  {
   "cell_type": "code",
   "execution_count": 812,
   "id": "4e5c4b92",
   "metadata": {},
   "outputs": [
    {
     "name": "stderr",
     "output_type": "stream",
     "text": [
      "C:\\Users\\Revati Chavare\\AppData\\Local\\Temp\\ipykernel_37668\\316209389.py:1: SettingWithCopyWarning: \n",
      "A value is trying to be set on a copy of a slice from a DataFrame.\n",
      "Try using .loc[row_indexer,col_indexer] = value instead\n",
      "\n",
      "See the caveats in the documentation: https://pandas.pydata.org/pandas-docs/stable/user_guide/indexing.html#returning-a-view-versus-a-copy\n",
      "  model_data['body_type']=model_data['body_type'].fillna(15)\n"
     ]
    }
   ],
   "source": [
    "model_data['body_type']=model_data['body_type'].fillna(15)"
   ]
  },
  {
   "cell_type": "code",
   "execution_count": 813,
   "id": "da213083",
   "metadata": {},
   "outputs": [
    {
     "name": "stderr",
     "output_type": "stream",
     "text": [
      "C:\\Users\\Revati Chavare\\AppData\\Local\\Temp\\ipykernel_37668\\943036262.py:1: SettingWithCopyWarning: \n",
      "A value is trying to be set on a copy of a slice from a DataFrame.\n",
      "Try using .loc[row_indexer,col_indexer] = value instead\n",
      "\n",
      "See the caveats in the documentation: https://pandas.pydata.org/pandas-docs/stable/user_guide/indexing.html#returning-a-view-versus-a-copy\n",
      "  model_data['fuel_type']=model_data['fuel_type'].astype(int)\n"
     ]
    }
   ],
   "source": [
    "model_data['fuel_type']=model_data['fuel_type'].astype(int)"
   ]
  },
  {
   "cell_type": "code",
   "execution_count": 814,
   "id": "6a49a288",
   "metadata": {},
   "outputs": [
    {
     "name": "stderr",
     "output_type": "stream",
     "text": [
      "C:\\Users\\Revati Chavare\\AppData\\Local\\Temp\\ipykernel_37668\\2799362953.py:1: SettingWithCopyWarning: \n",
      "A value is trying to be set on a copy of a slice from a DataFrame.\n",
      "Try using .loc[row_indexer,col_indexer] = value instead\n",
      "\n",
      "See the caveats in the documentation: https://pandas.pydata.org/pandas-docs/stable/user_guide/indexing.html#returning-a-view-versus-a-copy\n",
      "  model_data['body_type']=model_data['body_type'].astype(int)\n"
     ]
    }
   ],
   "source": [
    "model_data['body_type']=model_data['body_type'].astype(int)"
   ]
  },
  {
   "cell_type": "code",
   "execution_count": 815,
   "id": "e7c07482",
   "metadata": {},
   "outputs": [
    {
     "data": {
      "text/html": [
       "<div>\n",
       "<style scoped>\n",
       "    .dataframe tbody tr th:only-of-type {\n",
       "        vertical-align: middle;\n",
       "    }\n",
       "\n",
       "    .dataframe tbody tr th {\n",
       "        vertical-align: top;\n",
       "    }\n",
       "\n",
       "    .dataframe thead th {\n",
       "        text-align: right;\n",
       "    }\n",
       "</style>\n",
       "<table border=\"1\" class=\"dataframe\">\n",
       "  <thead>\n",
       "    <tr style=\"text-align: right;\">\n",
       "      <th></th>\n",
       "      <th>mileage</th>\n",
       "      <th>year_of_registration</th>\n",
       "      <th>price</th>\n",
       "      <th>vehicle_condition</th>\n",
       "      <th>fuel_type</th>\n",
       "      <th>body_type</th>\n",
       "    </tr>\n",
       "  </thead>\n",
       "  <tbody>\n",
       "    <tr>\n",
       "      <th>0</th>\n",
       "      <td>0.0</td>\n",
       "      <td>0</td>\n",
       "      <td>73970</td>\n",
       "      <td>0</td>\n",
       "      <td>3</td>\n",
       "      <td>1</td>\n",
       "    </tr>\n",
       "    <tr>\n",
       "      <th>1</th>\n",
       "      <td>108230.0</td>\n",
       "      <td>2011</td>\n",
       "      <td>7000</td>\n",
       "      <td>1</td>\n",
       "      <td>2</td>\n",
       "      <td>2</td>\n",
       "    </tr>\n",
       "    <tr>\n",
       "      <th>2</th>\n",
       "      <td>7800.0</td>\n",
       "      <td>2017</td>\n",
       "      <td>14000</td>\n",
       "      <td>1</td>\n",
       "      <td>1</td>\n",
       "      <td>1</td>\n",
       "    </tr>\n",
       "    <tr>\n",
       "      <th>3</th>\n",
       "      <td>45000.0</td>\n",
       "      <td>2016</td>\n",
       "      <td>7995</td>\n",
       "      <td>1</td>\n",
       "      <td>2</td>\n",
       "      <td>0</td>\n",
       "    </tr>\n",
       "    <tr>\n",
       "      <th>4</th>\n",
       "      <td>64000.0</td>\n",
       "      <td>2015</td>\n",
       "      <td>26995</td>\n",
       "      <td>1</td>\n",
       "      <td>2</td>\n",
       "      <td>1</td>\n",
       "    </tr>\n",
       "  </tbody>\n",
       "</table>\n",
       "</div>"
      ],
      "text/plain": [
       "    mileage  year_of_registration  price  vehicle_condition  fuel_type  \\\n",
       "0       0.0                     0  73970                  0          3   \n",
       "1  108230.0                  2011   7000                  1          2   \n",
       "2    7800.0                  2017  14000                  1          1   \n",
       "3   45000.0                  2016   7995                  1          2   \n",
       "4   64000.0                  2015  26995                  1          2   \n",
       "\n",
       "   body_type  \n",
       "0          1  \n",
       "1          2  \n",
       "2          1  \n",
       "3          0  \n",
       "4          1  "
      ]
     },
     "execution_count": 815,
     "metadata": {},
     "output_type": "execute_result"
    }
   ],
   "source": [
    "model_data.head()"
   ]
  },
  {
   "cell_type": "code",
   "execution_count": 816,
   "id": "02cf4769",
   "metadata": {},
   "outputs": [],
   "source": [
    "model_data= model_data.iloc[:40000,:]"
   ]
  },
  {
   "cell_type": "code",
   "execution_count": 817,
   "id": "76fb46bd",
   "metadata": {},
   "outputs": [],
   "source": [
    "#t = pd.get_dummies(model_data.crossover_car_and_van, prefix='crossover_car_and_van')\n",
    "#print(t.head())"
   ]
  },
  {
   "cell_type": "code",
   "execution_count": 818,
   "id": "6a48b207",
   "metadata": {},
   "outputs": [],
   "source": [
    "#model_data = pd.concat([model_data.drop(columns='crossover_car_and_van'),t], axis=1)\n",
    "\n",
    "#model_data.head()"
   ]
  },
  {
   "cell_type": "code",
   "execution_count": 819,
   "id": "151ca43e",
   "metadata": {},
   "outputs": [],
   "source": [
    "#y = pd.get_dummies(model_data.vehicle_condition, prefix='vehicle_condition')\n",
    "\n",
    "#print(y.head())"
   ]
  },
  {
   "cell_type": "code",
   "execution_count": 820,
   "id": "f173ecef",
   "metadata": {},
   "outputs": [],
   "source": [
    "#model_data = pd.concat([model_data.drop(columns='vehicle_condition'),y], axis=1)\n",
    "#model_data.head()"
   ]
  },
  {
   "cell_type": "code",
   "execution_count": 821,
   "id": "3e53f97e",
   "metadata": {},
   "outputs": [],
   "source": [
    "#z = pd.get_dummies(model_data.fuel_type, prefix='fuel_type')\n",
    "#print(z.head())"
   ]
  },
  {
   "cell_type": "code",
   "execution_count": 822,
   "id": "44991370",
   "metadata": {},
   "outputs": [],
   "source": [
    "#model_data = pd.concat([model_data.drop(columns='fuel_type'),z], axis=1)\n",
    "#model_data.head()"
   ]
  },
  {
   "cell_type": "code",
   "execution_count": 823,
   "id": "5b5a690f",
   "metadata": {},
   "outputs": [
    {
     "data": {
      "text/html": [
       "<div>\n",
       "<style scoped>\n",
       "    .dataframe tbody tr th:only-of-type {\n",
       "        vertical-align: middle;\n",
       "    }\n",
       "\n",
       "    .dataframe tbody tr th {\n",
       "        vertical-align: top;\n",
       "    }\n",
       "\n",
       "    .dataframe thead th {\n",
       "        text-align: right;\n",
       "    }\n",
       "</style>\n",
       "<table border=\"1\" class=\"dataframe\">\n",
       "  <thead>\n",
       "    <tr style=\"text-align: right;\">\n",
       "      <th></th>\n",
       "      <th>mileage</th>\n",
       "      <th>year_of_registration</th>\n",
       "      <th>price</th>\n",
       "      <th>vehicle_condition</th>\n",
       "      <th>fuel_type</th>\n",
       "      <th>body_type</th>\n",
       "    </tr>\n",
       "  </thead>\n",
       "  <tbody>\n",
       "    <tr>\n",
       "      <th>0</th>\n",
       "      <td>0.0</td>\n",
       "      <td>0</td>\n",
       "      <td>73970</td>\n",
       "      <td>0</td>\n",
       "      <td>3</td>\n",
       "      <td>1</td>\n",
       "    </tr>\n",
       "    <tr>\n",
       "      <th>1</th>\n",
       "      <td>108230.0</td>\n",
       "      <td>2011</td>\n",
       "      <td>7000</td>\n",
       "      <td>1</td>\n",
       "      <td>2</td>\n",
       "      <td>2</td>\n",
       "    </tr>\n",
       "    <tr>\n",
       "      <th>2</th>\n",
       "      <td>7800.0</td>\n",
       "      <td>2017</td>\n",
       "      <td>14000</td>\n",
       "      <td>1</td>\n",
       "      <td>1</td>\n",
       "      <td>1</td>\n",
       "    </tr>\n",
       "  </tbody>\n",
       "</table>\n",
       "</div>"
      ],
      "text/plain": [
       "    mileage  year_of_registration  price  vehicle_condition  fuel_type  \\\n",
       "0       0.0                     0  73970                  0          3   \n",
       "1  108230.0                  2011   7000                  1          2   \n",
       "2    7800.0                  2017  14000                  1          1   \n",
       "\n",
       "   body_type  \n",
       "0          1  \n",
       "1          2  \n",
       "2          1  "
      ]
     },
     "execution_count": 823,
     "metadata": {},
     "output_type": "execute_result"
    }
   ],
   "source": [
    "model_data.head(3)"
   ]
  },
  {
   "cell_type": "code",
   "execution_count": 955,
   "id": "77fbe3cb",
   "metadata": {},
   "outputs": [],
   "source": [
    "#Target= price\n",
    "#Predictors= Mileage and year of registration"
   ]
  },
  {
   "cell_type": "code",
   "execution_count": 956,
   "id": "5bd1235d",
   "metadata": {},
   "outputs": [],
   "source": [
    "X=model_data[['mileage','year_of_registration','body_type','fuel_type','vehicle_condition']]\n",
    "y=model_data['price']"
   ]
  },
  {
   "cell_type": "code",
   "execution_count": 957,
   "id": "8c94f338",
   "metadata": {},
   "outputs": [],
   "source": [
    "#X=model_data[['mileage','year_of_registration']]\n",
    "#y=model_data['price']"
   ]
  },
  {
   "cell_type": "code",
   "execution_count": 958,
   "id": "7e0bcb0d",
   "metadata": {},
   "outputs": [],
   "source": [
    "from sklearn.model_selection import train_test_split"
   ]
  },
  {
   "cell_type": "code",
   "execution_count": 959,
   "id": "161feb92",
   "metadata": {},
   "outputs": [],
   "source": [
    "X_train,X_test,y_train,y_test=train_test_split(X,y,test_size=0.2)"
   ]
  },
  {
   "cell_type": "code",
   "execution_count": 960,
   "id": "38ed8108",
   "metadata": {},
   "outputs": [
    {
     "data": {
      "text/plain": [
       "(8000, 5)"
      ]
     },
     "execution_count": 960,
     "metadata": {},
     "output_type": "execute_result"
    }
   ],
   "source": [
    "X_test.shape"
   ]
  },
  {
   "cell_type": "code",
   "execution_count": 961,
   "id": "eb537293",
   "metadata": {},
   "outputs": [],
   "source": [
    "reg=linear_model.LinearRegression()"
   ]
  },
  {
   "cell_type": "code",
   "execution_count": 962,
   "id": "c7d593a3",
   "metadata": {},
   "outputs": [
    {
     "data": {
      "text/plain": [
       "LinearRegression()"
      ]
     },
     "execution_count": 962,
     "metadata": {},
     "output_type": "execute_result"
    }
   ],
   "source": [
    "reg.fit(X_train,y_train)"
   ]
  },
  {
   "cell_type": "code",
   "execution_count": 963,
   "id": "bf5d8aca",
   "metadata": {},
   "outputs": [
    {
     "data": {
      "text/plain": [
       "array([15865.89017635, 24613.03416229, 18044.71760963, ...,\n",
       "       14812.67704713, 16974.10056977, 29791.9949776 ])"
      ]
     },
     "execution_count": 963,
     "metadata": {},
     "output_type": "execute_result"
    }
   ],
   "source": [
    "reg.predict(X_test)"
   ]
  },
  {
   "cell_type": "code",
   "execution_count": 964,
   "id": "86f47c2e",
   "metadata": {},
   "outputs": [
    {
     "data": {
      "text/plain": [
       "0.15130031437695945"
      ]
     },
     "execution_count": 964,
     "metadata": {},
     "output_type": "execute_result"
    }
   ],
   "source": [
    "reg.score(X_train,y_train)"
   ]
  },
  {
   "cell_type": "code",
   "execution_count": 965,
   "id": "23d32159",
   "metadata": {},
   "outputs": [
    {
     "data": {
      "text/plain": [
       "array([-2.10606308e-01, -3.22999257e+00,  2.08348633e+03,  1.04408934e+03,\n",
       "       -3.42615656e+03])"
      ]
     },
     "execution_count": 965,
     "metadata": {},
     "output_type": "execute_result"
    }
   ],
   "source": [
    "reg.coef_"
   ]
  },
  {
   "cell_type": "code",
   "execution_count": 966,
   "id": "a1d8ef01",
   "metadata": {},
   "outputs": [
    {
     "data": {
      "text/plain": [
       "29396.191196895372"
      ]
     },
     "execution_count": 966,
     "metadata": {},
     "output_type": "execute_result"
    }
   ],
   "source": [
    "reg.intercept_"
   ]
  },
  {
   "cell_type": "code",
   "execution_count": 967,
   "id": "b345ee7b",
   "metadata": {},
   "outputs": [],
   "source": [
    "from sklearn.preprocessing import StandardScaler\n",
    "scaler = StandardScaler()"
   ]
  },
  {
   "cell_type": "code",
   "execution_count": 968,
   "id": "b203f014",
   "metadata": {},
   "outputs": [],
   "source": [
    "X_train=scaler.fit_transform(X_train)"
   ]
  },
  {
   "cell_type": "code",
   "execution_count": 969,
   "id": "b2a76854",
   "metadata": {},
   "outputs": [],
   "source": [
    "X_test=scaler.transform(X_test)"
   ]
  },
  {
   "cell_type": "code",
   "execution_count": 970,
   "id": "c3462bb0",
   "metadata": {},
   "outputs": [
    {
     "data": {
      "text/plain": [
       "array([[1.0000e+01, 0.0000e+00, 0.0000e+00, 1.0000e+00, 0.0000e+00],\n",
       "       [6.6260e+04, 2.0150e+03, 6.0000e+00, 1.0000e+00, 1.0000e+00],\n",
       "       [5.7614e+04, 2.0090e+03, 0.0000e+00, 2.0000e+00, 1.0000e+00],\n",
       "       ...,\n",
       "       [4.3000e+04, 2.0150e+03, 0.0000e+00, 1.0000e+00, 1.0000e+00],\n",
       "       [2.0280e+04, 2.0170e+03, 7.0000e+00, 2.0000e+00, 1.0000e+00],\n",
       "       [2.8272e+04, 2.0140e+03, 0.0000e+00, 1.0000e+00, 1.0000e+00]])"
      ]
     },
     "execution_count": 970,
     "metadata": {},
     "output_type": "execute_result"
    }
   ],
   "source": [
    "scaler.inverse_transform(X_train)"
   ]
  },
  {
   "cell_type": "code",
   "execution_count": 971,
   "id": "22bc7f93",
   "metadata": {},
   "outputs": [],
   "source": [
    "from sklearn.model_selection import cross_val_score"
   ]
  },
  {
   "cell_type": "code",
   "execution_count": 972,
   "id": "5cefe614",
   "metadata": {},
   "outputs": [],
   "source": [
    "scores = cross_val_score(reg, X, y, cv=5, scoring='neg_root_mean_squared_error')\n"
   ]
  },
  {
   "cell_type": "code",
   "execution_count": 973,
   "id": "7d7b1205",
   "metadata": {},
   "outputs": [
    {
     "data": {
      "text/plain": [
       "LinearRegression()"
      ]
     },
     "execution_count": 973,
     "metadata": {},
     "output_type": "execute_result"
    }
   ],
   "source": [
    "reg.fit(X, y)"
   ]
  },
  {
   "cell_type": "code",
   "execution_count": 974,
   "id": "d8cd6eee",
   "metadata": {},
   "outputs": [
    {
     "name": "stderr",
     "output_type": "stream",
     "text": [
      "C:\\ProgramData\\Anaconda3\\lib\\site-packages\\sklearn\\base.py:450: UserWarning: X does not have valid feature names, but LinearRegression was fitted with feature names\n",
      "  warnings.warn(\n"
     ]
    }
   ],
   "source": [
    "final_predictions = reg.predict(X_test)"
   ]
  },
  {
   "cell_type": "code",
   "execution_count": 975,
   "id": "cb3c0038",
   "metadata": {},
   "outputs": [
    {
     "data": {
      "text/plain": [
       "array([26715.97521806, 31114.75535715, 31114.59902212, ...,\n",
       "       27642.13869961, 26716.00690696, 32446.92473043])"
      ]
     },
     "execution_count": 975,
     "metadata": {},
     "output_type": "execute_result"
    }
   ],
   "source": [
    "final_predictions"
   ]
  },
  {
   "cell_type": "code",
   "execution_count": 976,
   "id": "943e7efc",
   "metadata": {},
   "outputs": [
    {
     "name": "stderr",
     "output_type": "stream",
     "text": [
      "C:\\ProgramData\\Anaconda3\\lib\\site-packages\\seaborn\\distributions.py:2619: FutureWarning: `distplot` is a deprecated function and will be removed in a future version. Please adapt your code to use either `displot` (a figure-level function with similar flexibility) or `histplot` (an axes-level function for histograms).\n",
      "  warnings.warn(msg, FutureWarning)\n"
     ]
    },
    {
     "data": {
      "text/plain": [
       "<AxesSubplot:xlabel='price', ylabel='Density'>"
      ]
     },
     "execution_count": 976,
     "metadata": {},
     "output_type": "execute_result"
    },
    {
     "data": {
      "image/png": "[encoded data removed]",
      "text/plain": [
       "<Figure size 1400x600 with 1 Axes>"
      ]
     },
     "metadata": {
      "image/png": {
       "height": 553,
       "width": 1152
      }
     },
     "output_type": "display_data"
    }
   ],
   "source": [
    "sns.distplot(final_predictions-y_test,kde=True)"
   ]
  },
  {
   "cell_type": "code",
   "execution_count": 977,
   "id": "69535949",
   "metadata": {},
   "outputs": [],
   "source": [
    "from sklearn.metrics import r2_score"
   ]
  },
  {
   "cell_type": "code",
   "execution_count": 978,
   "id": "da0ea389",
   "metadata": {},
   "outputs": [],
   "source": [
    "score=r2_score(final_predictions,y_test)"
   ]
  },
  {
   "cell_type": "code",
   "execution_count": 979,
   "id": "70085910",
   "metadata": {},
   "outputs": [
    {
     "data": {
      "text/plain": [
       "-102.62026000044757"
      ]
     },
     "execution_count": 979,
     "metadata": {},
     "output_type": "execute_result"
    }
   ],
   "source": [
    "score"
   ]
  },
  {
   "cell_type": "code",
   "execution_count": 980,
   "id": "6b736a2a",
   "metadata": {},
   "outputs": [
    {
     "data": {
      "text/html": [
       "<div>\n",
       "<style scoped>\n",
       "    .dataframe tbody tr th:only-of-type {\n",
       "        vertical-align: middle;\n",
       "    }\n",
       "\n",
       "    .dataframe tbody tr th {\n",
       "        vertical-align: top;\n",
       "    }\n",
       "\n",
       "    .dataframe thead th {\n",
       "        text-align: right;\n",
       "    }\n",
       "</style>\n",
       "<table border=\"1\" class=\"dataframe\">\n",
       "  <thead>\n",
       "    <tr style=\"text-align: right;\">\n",
       "      <th></th>\n",
       "      <th>mileage</th>\n",
       "      <th>year_of_registration</th>\n",
       "      <th>price</th>\n",
       "      <th>vehicle_condition</th>\n",
       "      <th>fuel_type</th>\n",
       "      <th>body_type</th>\n",
       "    </tr>\n",
       "  </thead>\n",
       "  <tbody>\n",
       "    <tr>\n",
       "      <th>0</th>\n",
       "      <td>0.0</td>\n",
       "      <td>0</td>\n",
       "      <td>73970</td>\n",
       "      <td>0</td>\n",
       "      <td>3</td>\n",
       "      <td>1</td>\n",
       "    </tr>\n",
       "    <tr>\n",
       "      <th>1</th>\n",
       "      <td>108230.0</td>\n",
       "      <td>2011</td>\n",
       "      <td>7000</td>\n",
       "      <td>1</td>\n",
       "      <td>2</td>\n",
       "      <td>2</td>\n",
       "    </tr>\n",
       "    <tr>\n",
       "      <th>2</th>\n",
       "      <td>7800.0</td>\n",
       "      <td>2017</td>\n",
       "      <td>14000</td>\n",
       "      <td>1</td>\n",
       "      <td>1</td>\n",
       "      <td>1</td>\n",
       "    </tr>\n",
       "    <tr>\n",
       "      <th>3</th>\n",
       "      <td>45000.0</td>\n",
       "      <td>2016</td>\n",
       "      <td>7995</td>\n",
       "      <td>1</td>\n",
       "      <td>2</td>\n",
       "      <td>0</td>\n",
       "    </tr>\n",
       "    <tr>\n",
       "      <th>4</th>\n",
       "      <td>64000.0</td>\n",
       "      <td>2015</td>\n",
       "      <td>26995</td>\n",
       "      <td>1</td>\n",
       "      <td>2</td>\n",
       "      <td>1</td>\n",
       "    </tr>\n",
       "    <tr>\n",
       "      <th>...</th>\n",
       "      <td>...</td>\n",
       "      <td>...</td>\n",
       "      <td>...</td>\n",
       "      <td>...</td>\n",
       "      <td>...</td>\n",
       "      <td>...</td>\n",
       "    </tr>\n",
       "    <tr>\n",
       "      <th>39995</th>\n",
       "      <td>1719.0</td>\n",
       "      <td>2019</td>\n",
       "      <td>9247</td>\n",
       "      <td>1</td>\n",
       "      <td>1</td>\n",
       "      <td>0</td>\n",
       "    </tr>\n",
       "    <tr>\n",
       "      <th>39996</th>\n",
       "      <td>112000.0</td>\n",
       "      <td>2014</td>\n",
       "      <td>14495</td>\n",
       "      <td>1</td>\n",
       "      <td>2</td>\n",
       "      <td>7</td>\n",
       "    </tr>\n",
       "    <tr>\n",
       "      <th>39997</th>\n",
       "      <td>10.0</td>\n",
       "      <td>2020</td>\n",
       "      <td>40844</td>\n",
       "      <td>1</td>\n",
       "      <td>2</td>\n",
       "      <td>1</td>\n",
       "    </tr>\n",
       "    <tr>\n",
       "      <th>39998</th>\n",
       "      <td>10.0</td>\n",
       "      <td>0</td>\n",
       "      <td>19590</td>\n",
       "      <td>0</td>\n",
       "      <td>1</td>\n",
       "      <td>0</td>\n",
       "    </tr>\n",
       "    <tr>\n",
       "      <th>39999</th>\n",
       "      <td>29946.0</td>\n",
       "      <td>2013</td>\n",
       "      <td>4800</td>\n",
       "      <td>1</td>\n",
       "      <td>1</td>\n",
       "      <td>0</td>\n",
       "    </tr>\n",
       "  </tbody>\n",
       "</table>\n",
       "<p>40000 rows × 6 columns</p>\n",
       "</div>"
      ],
      "text/plain": [
       "        mileage  year_of_registration  price  vehicle_condition  fuel_type  \\\n",
       "0           0.0                     0  73970                  0          3   \n",
       "1      108230.0                  2011   7000                  1          2   \n",
       "2        7800.0                  2017  14000                  1          1   \n",
       "3       45000.0                  2016   7995                  1          2   \n",
       "4       64000.0                  2015  26995                  1          2   \n",
       "...         ...                   ...    ...                ...        ...   \n",
       "39995    1719.0                  2019   9247                  1          1   \n",
       "39996  112000.0                  2014  14495                  1          2   \n",
       "39997      10.0                  2020  40844                  1          2   \n",
       "39998      10.0                     0  19590                  0          1   \n",
       "39999   29946.0                  2013   4800                  1          1   \n",
       "\n",
       "       body_type  \n",
       "0              1  \n",
       "1              2  \n",
       "2              1  \n",
       "3              0  \n",
       "4              1  \n",
       "...          ...  \n",
       "39995          0  \n",
       "39996          7  \n",
       "39997          1  \n",
       "39998          0  \n",
       "39999          0  \n",
       "\n",
       "[40000 rows x 6 columns]"
      ]
     },
     "execution_count": 980,
     "metadata": {},
     "output_type": "execute_result"
    }
   ],
   "source": [
    "model_data"
   ]
  },
  {
   "cell_type": "code",
   "execution_count": null,
   "id": "bdb8898f",
   "metadata": {},
   "outputs": [],
   "source": []
  },
  {
   "cell_type": "code",
   "execution_count": null,
   "id": "62811cef",
   "metadata": {},
   "outputs": [],
   "source": []
  },
  {
   "cell_type": "code",
   "execution_count": null,
   "id": "4bcda5c0",
   "metadata": {},
   "outputs": [],
   "source": []
  },
  {
   "cell_type": "code",
   "execution_count": null,
   "id": "1ac1b419",
   "metadata": {},
   "outputs": [],
   "source": []
  },
  {
   "cell_type": "code",
   "execution_count": null,
   "id": "e40c7fa2",
   "metadata": {},
   "outputs": [],
   "source": []
  }
 ],
 "metadata": {
  "kernelspec": {
   "display_name": "Python 3 (ipykernel)",
   "language": "python",
   "name": "python3"
  },
  "language_info": {
   "codemirror_mode": {
    "name": "ipython",
    "version": 3
   },
   "file_extension": ".py",
   "mimetype": "text/x-python",
   "name": "python",
   "nbconvert_exporter": "python",
   "pygments_lexer": "ipython3",
   "version": "3.9.13"
  }
 },
 "nbformat": 4,
 "nbformat_minor": 5
}
